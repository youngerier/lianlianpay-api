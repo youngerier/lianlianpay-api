{
 "cells": [
  {
   "cell_type": "code",
   "execution_count": 1,
   "metadata": {},
   "outputs": [],
   "source": [
    "from Crypto.PublicKey import RSA\n",
    "from Crypto.Signature import PKCS1_v1_5\n",
    "from Crypto.Hash import MD5, SHA1, SHA256\n",
    "import base64\n",
    "import hashlib\n",
    "\n",
    "\n",
    "from mylib import sign"
   ]
  },
  {
   "cell_type": "code",
   "execution_count": 2,
   "metadata": {},
   "outputs": [
    {
     "name": "stdout",
     "output_type": "stream",
     "text": [
      "GQbY/W9vLb4zWArhp4wDktE98nUd5RsTGN+2oY+jJD8PNDtqoTswLlJ37S5qFg11sEAhlh/TuxEna9VM8zJFtmVybxGWYc6V4eJTzcK778Z/C2WrPU9SOiSiTgOcwHbih/rXiYrYDgK8Z97COypc3qom/YkgculGCG1Y5TpAzYk=\n"
     ]
    }
   ],
   "source": [
    "\n",
    "\n",
    "\n",
    "\n",
    "def RSA_sign(data):\n",
    "    privateKey = '''MIICdwIBADANBgkqhkiG9w0BAQEFAASCAmEwggJdAgEAAoGBAIooE+9hmb6GvAUQ3j9FDRgrhWMmVWKepKNmQerrvovmySUSPzFHainDMl6HuQAWHCMI9O8S9kzqG3o9pnetpG7JShB6Oc9eX0kA6n0vLR2rYXNo5uVC29/Koqp250T7lzQ9bv6P0rkjIrqjTNIPVQXToyAwQcZQ5rVhUbtnP7YlAgMBAAECgYBpSzpGS0B9sPpDciOwXNQqA6FZe7G/w+D+l8TNYnaK8Y2Dr3ByAlerFJWi7hXVNwSivwTN4MnOvO3MMIha1gBnQCFStI4PjRv2qz6vsGfzZKFadUw3ngzGhT5UtIVAd+IFbbr4J+cGjGMmF5lIEaKrRCS5u4p11uf6LmhvbBTm0QJBAMQA7RYimdU9UStIm/RSkLQg6K89Om3S2AFXwqymiqhM4m6n7lRTE1xNX4pGm1BV8C/qL0d7AHbrJBFi+hN5onMCQQC0cjAXmKdnfhTo0IvYtzpXr77odBz4zt2Ake65ssBJEWFzle69MbWgkbrTKLLjGxBwM+C7fPDGNckqhlpjMGcHAkB+vcKRT6p9svqrrHX8FO+xKp6LwmHn5jD7HU6q6b47egvpVfnM2TNpujaPaXzBA/EeaqZL6IOyYfaer4vZ0At1AkEAqezuRQpIezlMT4I0b7z8gB7MVPMjZVrJVI4YlV8znJt1ffevfxMUy0Tw/nDRJPUTodX4yBZ8VuvHqPgknkuyeQJBALYpXGOH/GjlSVtnhq7eZxvoEqiBLawW5k7Rl1IyNdGR2qxY/nnoCyP2mMCs1Ba05sCcX08zzOzMPvttbSyjqPI='''\n",
    "\n",
    "    private_keyBytes = base64.b64decode(privateKey)\n",
    "    priKey = RSA.importKey(private_keyBytes)\n",
    "    signer = PKCS1_v1_5.new(priKey,)\n",
    "    # SIGNATURE_ALGORITHM = \"MD5withRSA\"\n",
    "    hash_obj = MD5.new(data.encode('utf-8'))\n",
    "\n",
    "    signature = base64.b64encode(signer.sign(hash_obj))\n",
    "    return signature\n",
    "\n",
    "\n",
    "if __name__ == '__main__':\n",
    "    data = \"phone=15811352072&timestamp=1612496512540&device=Android\"\n",
    "    res_sign1 = RSA_sign(data)\n",
    "    signature = res_sign1.decode('utf8')\n",
    "    print(signature)"
   ]
  },
  {
   "cell_type": "code",
   "execution_count": 3,
   "metadata": {},
   "outputs": [
    {
     "name": "stdout",
     "output_type": "stream",
     "text": [
      "97d804ed3b091a48f7b5517c0042af74\n",
      "97d804ed3b091a48f7b5517c0042af74\n"
     ]
    }
   ],
   "source": [
    "src_data = 'xxdda'\n",
    "md5_hash = MD5.new(src_data.encode())\n",
    "str_md5_hash = md5_hash.hexdigest()\n",
    "\n",
    "hashlib_str = hashlib.md5(src_data.encode()).hexdigest()\n",
    "print(str_md5_hash)\n",
    "print(hashlib_str)"
   ]
  },
  {
   "cell_type": "code",
   "execution_count": 4,
   "metadata": {},
   "outputs": [
    {
     "name": "stdout",
     "output_type": "stream",
     "text": [
      "导出依赖\n",
      "\n",
      "pip freeze > requirements.txt\n",
      "\n",
      "\n",
      "\n",
      "导入依赖\n",
      "\n",
      "pip install -r requirements.txt\n",
      "\n"
     ]
    }
   ],
   "source": [
    "sign.my_hash111('asfdsaf')\n",
    "\n",
    "\n",
    "sign.read_file('read.md')\n",
    " "
   ]
  },
  {
   "cell_type": "code",
   "execution_count": 5,
   "metadata": {},
   "outputs": [
    {
     "data": {
      "text/plain": [
       "environ{'ALLUSERSPROFILE': 'C:\\\\ProgramData',\n",
       "        'APPCODE_VM_OPTIONS': 'D:\\\\softw\\\\jetbra\\\\vmoptions\\\\appcode.vmoptions',\n",
       "        'APPDATA': 'C:\\\\Users\\\\wangping003\\\\AppData\\\\Roaming',\n",
       "        'APPLICATION_INSIGHTS_NO_DIAGNOSTIC_CHANNEL': 'true',\n",
       "        'CLION_VM_OPTIONS': 'D:\\\\softw\\\\jetbra\\\\vmoptions\\\\clion.vmoptions',\n",
       "        'COMMONPROGRAMFILES': 'C:\\\\Program Files\\\\Common Files',\n",
       "        'COMMONPROGRAMFILES(X86)': 'C:\\\\Program Files (x86)\\\\Common Files',\n",
       "        'COMMONPROGRAMW6432': 'C:\\\\Program Files\\\\Common Files',\n",
       "        'COMPUTERNAME': 'LT-WANGPING003',\n",
       "        'COMSPEC': 'C:\\\\Windows\\\\system32\\\\cmd.exe',\n",
       "        'DATAGRIP_VM_OPTIONS': 'D:\\\\softw\\\\jetbra\\\\vmoptions\\\\datagrip.vmoptions',\n",
       "        'DATASPELL_VM_OPTIONS': 'D:\\\\softw\\\\jetbra\\\\vmoptions\\\\dataspell.vmoptions',\n",
       "        'DEVECOSTUDIO_VM_OPTIONS': 'D:\\\\softw\\\\jetbra\\\\vmoptions\\\\devecostudio.vmoptions',\n",
       "        'DRIVERDATA': 'C:\\\\Windows\\\\System32\\\\Drivers\\\\DriverData',\n",
       "        'ELECTRON_RUN_AS_NODE': '1',\n",
       "        'FPS_BROWSER_APP_PROFILE_STRING': 'Internet Explorer',\n",
       "        'FPS_BROWSER_USER_PROFILE_STRING': 'Default',\n",
       "        'GATEWAY_VM_OPTIONS': 'D:\\\\softw\\\\jetbra\\\\vmoptions\\\\gateway.vmoptions',\n",
       "        'GOLAND_VM_OPTIONS': 'D:\\\\softw\\\\jetbra\\\\vmoptions\\\\goland.vmoptions',\n",
       "        'GRADLE_HOME': 'D:\\\\softw\\\\javaapps\\\\gradle-7.4.2',\n",
       "        'HOMEDRIVE': 'C:',\n",
       "        'HOMEPATH': '\\\\Users\\\\wangping003',\n",
       "        'IDEA_VM_OPTIONS': 'D:\\\\softw\\\\jetbra\\\\vmoptions\\\\idea.vmoptions',\n",
       "        'JAVA_HOME': 'C:\\\\Users\\\\wangping003\\\\.jdks\\\\liberica-1.8.0_333',\n",
       "        'JETBRAINSCLIENT_VM_OPTIONS': 'D:\\\\softw\\\\jetbra\\\\vmoptions\\\\jetbrainsclient.vmoptions',\n",
       "        'JETBRAINS_CLIENT_VM_OPTIONS': 'D:\\\\softw\\\\jetbra\\\\vmoptions\\\\jetbrains_client.vmoptions',\n",
       "        'JPY_INTERRUPT_EVENT': '2520',\n",
       "        'LDMS_LOCAL_DIR': 'C:\\\\Program Files (x86)\\\\LANDesk\\\\LDClient\\\\Data',\n",
       "        'LDMS_PREFERRED_SERVER': '192.168.170.91',\n",
       "        'LOCALAPPDATA': 'C:\\\\Users\\\\wangping003\\\\AppData\\\\Local',\n",
       "        'LOGONSERVER': '\\\\\\\\LLPDC03',\n",
       "        'MAVEN_HOME': 'D:\\\\softw\\\\javaapps\\\\apache-maven-3.8.6',\n",
       "        'NUMBER_OF_PROCESSORS': '8',\n",
       "        'ONEDRIVE': 'C:\\\\Users\\\\wangping003\\\\OneDrive',\n",
       "        'ORIGINAL_XDG_CURRENT_DESKTOP': 'undefined',\n",
       "        'OS': 'Windows_NT',\n",
       "        'PATH': 'c:\\\\Users\\\\wangping003\\\\Desktop\\\\doc\\\\py-test\\\\.venv\\\\Scripts;C:\\\\Users\\\\wangping003\\\\Desktop\\\\doc\\\\py-test\\\\.venv\\\\Scripts;C:\\\\Program Files (x86)\\\\NetSarang\\\\Xftp 6\\\\;C:\\\\Windows\\\\system32;C:\\\\Windows;C:\\\\Windows\\\\System32\\\\Wbem;C:\\\\Windows\\\\System32\\\\WindowsPowerShell\\\\v1.0\\\\;C:\\\\Windows\\\\System32\\\\OpenSSH\\\\;C:\\\\Program Files\\\\TortoiseSVN\\\\bin;C:\\\\Program Files (x86)\\\\NVIDIA Corporation\\\\PhysX\\\\Common;C:\\\\Program Files\\\\NVIDIA Corporation\\\\NVIDIA NvDLISR;C:\\\\Program Files (x86)\\\\NetSarang\\\\Xshell 7\\\\;C:\\\\Users\\\\wangping003\\\\AppData\\\\Local\\\\Microsoft\\\\WindowsApps;C:\\\\Users\\\\wangping003\\\\.bins;D:\\\\softw\\\\Microsoft VS Code\\\\bin;C:\\\\Users\\\\wangping003\\\\AppData\\\\Local\\\\Programs\\\\Git\\\\cmd;D:\\\\softw\\\\javaapps\\\\apache-maven-3.8.6\\\\bin;C:\\\\Users\\\\wangping003\\\\.jdks\\\\liberica-1.8.0_333\\\\bin;C:\\\\Users\\\\wangping003\\\\AppData\\\\Local\\\\Programs\\\\oh-my-posh\\\\bin;D:\\\\softw\\\\javaapps\\\\gradle-7.4.2\\\\bin;D:\\\\softw\\\\go\\\\bin;D:\\\\softw\\\\node10;C:\\\\Users\\\\wangping003\\\\AppData\\\\Local\\\\GitHubDesktop\\\\bin;D:\\\\softw\\\\dotnet;C:\\\\Users\\\\wangping003\\\\.dotnet\\\\tools;D:\\\\softw\\\\bin;',\n",
       "        'PATHEXT': '.COM;.EXE;.BAT;.CMD;.VBS;.VBE;.JS;.JSE;.WSF;.WSH;.MSC',\n",
       "        'PHPSTORM_VM_OPTIONS': 'D:\\\\softw\\\\jetbra\\\\vmoptions\\\\phpstorm.vmoptions',\n",
       "        'POSH_THEMES_PATH': 'C:\\\\Users\\\\wangping003\\\\AppData\\\\Local\\\\Programs\\\\oh-my-posh\\\\themes',\n",
       "        'PROCESSOR_ARCHITECTURE': 'AMD64',\n",
       "        'PROCESSOR_IDENTIFIER': 'Intel64 Family 6 Model 142 Stepping 12, GenuineIntel',\n",
       "        'PROCESSOR_LEVEL': '6',\n",
       "        'PROCESSOR_REVISION': '8e0c',\n",
       "        'PROGRAMDATA': 'C:\\\\ProgramData',\n",
       "        'PROGRAMFILES': 'C:\\\\Program Files',\n",
       "        'PROGRAMFILES(X86)': 'C:\\\\Program Files (x86)',\n",
       "        'PROGRAMW6432': 'C:\\\\Program Files',\n",
       "        'PROMPT': '(.venv) $P$G',\n",
       "        'PSMODULEPATH': 'C:\\\\Program Files\\\\WindowsPowerShell\\\\Modules;C:\\\\Windows\\\\system32\\\\WindowsPowerShell\\\\v1.0\\\\Modules',\n",
       "        'PUBLIC': 'C:\\\\Users\\\\Public',\n",
       "        'PYCHARM_VM_OPTIONS': 'D:\\\\softw\\\\jetbra\\\\vmoptions\\\\pycharm.vmoptions',\n",
       "        'PYTHONIOENCODING': 'utf-8',\n",
       "        'PYTHONUNBUFFERED': '1',\n",
       "        'PYTHONUSERBASE': 'C:\\\\Users\\\\wangping003\\\\AppData\\\\Local\\\\Packages\\\\PythonSoftwareFoundation.Python.3.10_qbz5n2kfra8p0\\\\LocalCache\\\\local-packages',\n",
       "        'RIDER_VM_OPTIONS': 'D:\\\\softw\\\\jetbra\\\\vmoptions\\\\rider.vmoptions',\n",
       "        'RUBYMINE_VM_OPTIONS': 'D:\\\\softw\\\\jetbra\\\\vmoptions\\\\rubymine.vmoptions',\n",
       "        'SESSIONNAME': 'Console',\n",
       "        'STUDIO_VM_OPTIONS': 'D:\\\\softw\\\\jetbra\\\\vmoptions\\\\studio.vmoptions',\n",
       "        'SYSTEMDRIVE': 'C:',\n",
       "        'SYSTEMROOT': 'C:\\\\Windows',\n",
       "        'TEMP': 'C:\\\\Users\\\\WANGPI~1\\\\AppData\\\\Local\\\\Temp',\n",
       "        'TMP': 'C:\\\\Users\\\\WANGPI~1\\\\AppData\\\\Local\\\\Temp',\n",
       "        'USERDNSDOMAIN': 'LIANLIANPAY.COM',\n",
       "        'USERDOMAIN': 'LIANLIANPAY',\n",
       "        'USERDOMAIN_ROAMINGPROFILE': 'LIANLIANPAY',\n",
       "        'USERNAME': 'wangping003',\n",
       "        'USERPROFILE': 'C:\\\\Users\\\\wangping003',\n",
       "        'VIRTUAL_ENV': 'C:\\\\Users\\\\wangping003\\\\Desktop\\\\doc\\\\py-test\\\\.venv',\n",
       "        'VIRTUAL_ENV_PROMPT': '(.venv) ',\n",
       "        'VSCODE_AMD_ENTRYPOINT': 'vs/workbench/api/node/extensionHostProcess',\n",
       "        'VSCODE_CODE_CACHE_PATH': 'C:\\\\Users\\\\wangping003\\\\AppData\\\\Roaming\\\\Code\\\\CachedData\\\\6261075646f055b99068d3688932416f2346dd3b',\n",
       "        'VSCODE_CWD': 'D:\\\\softw\\\\Microsoft VS Code',\n",
       "        'VSCODE_HANDLES_UNCAUGHT_ERRORS': 'true',\n",
       "        'VSCODE_IPC_HOOK': '\\\\\\\\.\\\\pipe\\\\3a2791f692639977176f536df28f8e64-1.73.1-main-sock',\n",
       "        'VSCODE_NLS_CONFIG': '{\"locale\":\"zh-cn\",\"availableLanguages\":{\"*\":\"zh-cn\"},\"_languagePackId\":\"b16d881a9e4fee82f16d59f67823019e.zh-cn\",\"_translationsConfigFile\":\"C:\\\\\\\\Users\\\\\\\\wangping003\\\\\\\\AppData\\\\\\\\Roaming\\\\\\\\Code\\\\\\\\clp\\\\\\\\b16d881a9e4fee82f16d59f67823019e.zh-cn\\\\\\\\tcf.json\",\"_cacheRoot\":\"C:\\\\\\\\Users\\\\\\\\wangping003\\\\\\\\AppData\\\\\\\\Roaming\\\\\\\\Code\\\\\\\\clp\\\\\\\\b16d881a9e4fee82f16d59f67823019e.zh-cn\",\"_resolvedLanguagePackCoreLocation\":\"C:\\\\\\\\Users\\\\\\\\wangping003\\\\\\\\AppData\\\\\\\\Roaming\\\\\\\\Code\\\\\\\\clp\\\\\\\\b16d881a9e4fee82f16d59f67823019e.zh-cn\\\\\\\\6261075646f055b99068d3688932416f2346dd3b\",\"_corruptedFile\":\"C:\\\\\\\\Users\\\\\\\\wangping003\\\\\\\\AppData\\\\\\\\Roaming\\\\\\\\Code\\\\\\\\clp\\\\\\\\b16d881a9e4fee82f16d59f67823019e.zh-cn\\\\\\\\corrupted.info\",\"_languagePackSupport\":true}',\n",
       "        'VSCODE_PID': '5588',\n",
       "        'WEBIDE_VM_OPTIONS': 'D:\\\\softw\\\\jetbra\\\\vmoptions\\\\webide.vmoptions',\n",
       "        'WEBSTORM_VM_OPTIONS': 'D:\\\\softw\\\\jetbra\\\\vmoptions\\\\webstorm.vmoptions',\n",
       "        'WINDIR': 'C:\\\\Windows',\n",
       "        'ZES_ENABLE_SYSMAN': '1',\n",
       "        '_OLD_VIRTUAL_PATH': 'C:\\\\Program Files (x86)\\\\NetSarang\\\\Xftp 6\\\\;C:\\\\Windows\\\\system32;C:\\\\Windows;C:\\\\Windows\\\\System32\\\\Wbem;C:\\\\Windows\\\\System32\\\\WindowsPowerShell\\\\v1.0\\\\;C:\\\\Windows\\\\System32\\\\OpenSSH\\\\;C:\\\\Program Files\\\\TortoiseSVN\\\\bin;C:\\\\Program Files (x86)\\\\NVIDIA Corporation\\\\PhysX\\\\Common;C:\\\\Program Files\\\\NVIDIA Corporation\\\\NVIDIA NvDLISR;C:\\\\Program Files (x86)\\\\NetSarang\\\\Xshell 7\\\\;C:\\\\Users\\\\wangping003\\\\AppData\\\\Local\\\\Microsoft\\\\WindowsApps;C:\\\\Users\\\\wangping003\\\\.bins;D:\\\\softw\\\\Microsoft VS Code\\\\bin;C:\\\\Users\\\\wangping003\\\\AppData\\\\Local\\\\Programs\\\\Git\\\\cmd;D:\\\\softw\\\\javaapps\\\\apache-maven-3.8.6\\\\bin;C:\\\\Users\\\\wangping003\\\\.jdks\\\\liberica-1.8.0_333\\\\bin;C:\\\\Users\\\\wangping003\\\\AppData\\\\Local\\\\Programs\\\\oh-my-posh\\\\bin;D:\\\\softw\\\\javaapps\\\\gradle-7.4.2\\\\bin;D:\\\\softw\\\\go\\\\bin;D:\\\\softw\\\\node10;C:\\\\Users\\\\wangping003\\\\AppData\\\\Local\\\\GitHubDesktop\\\\bin;D:\\\\softw\\\\dotnet;C:\\\\Users\\\\wangping003\\\\.dotnet\\\\tools;D:\\\\softw\\\\bin;',\n",
       "        '_OLD_VIRTUAL_PROMPT': '$P$G',\n",
       "        'TERM': 'xterm-color',\n",
       "        'CLICOLOR': '1',\n",
       "        'PAGER': 'cat',\n",
       "        'GIT_PAGER': 'cat',\n",
       "        'MPLBACKEND': 'module://matplotlib_inline.backend_inline',\n",
       "        'PYDEVD_IPYTHON_COMPATIBLE_DEBUGGING': '1'}"
      ]
     },
     "execution_count": 5,
     "metadata": {},
     "output_type": "execute_result"
    }
   ],
   "source": [
    "import os\n",
    "\n",
    "\n",
    "os.name\n",
    "os.environ"
   ]
  },
  {
   "cell_type": "code",
   "execution_count": 8,
   "metadata": {},
   "outputs": [
    {
     "name": "stdout",
     "output_type": "stream",
     "text": [
      "Monday\n",
      "Tuesday\n",
      "Wednesday\n"
     ]
    }
   ],
   "source": [
    "from enum import Enum\n",
    "\n",
    "class Day(Enum):\n",
    "    Monday = 1\n",
    "    Tuesday = 2\n",
    "    Wednesday = 3\n",
    "\n",
    "# print(Day.Monday)\n",
    "\n",
    "for i in Day:\n",
    "    print(i.name)"
   ]
  },
  {
   "cell_type": "code",
   "execution_count": 11,
   "metadata": {},
   "outputs": [
    {
     "name": "stderr",
     "output_type": "stream",
     "text": [
      "WARNING:root:Watch out!\n"
     ]
    }
   ],
   "source": [
    "import logging \n",
    "\n",
    "logging.basicConfig(format='%(asctime)s %(levelname)s: %(message)s',level=logging.DEBUG,datefmt='%Y-%m-%d %H:%M:%S')\n",
    "logging.warning('Watch out!')"
   ]
  }
 ],
 "metadata": {
  "kernelspec": {
   "display_name": "Python 3.10.8 ('.venv': venv)",
   "language": "python",
   "name": "python3"
  },
  "language_info": {
   "codemirror_mode": {
    "name": "ipython",
    "version": 3
   },
   "file_extension": ".py",
   "mimetype": "text/x-python",
   "name": "python",
   "nbconvert_exporter": "python",
   "pygments_lexer": "ipython3",
   "version": "3.10.8"
  },
  "orig_nbformat": 4,
  "vscode": {
   "interpreter": {
    "hash": "52b431239b7dd7d4d500115389a3f6b45cfdff8c272c23fac58ba7cb094dbbee"
   }
  }
 },
 "nbformat": 4,
 "nbformat_minor": 2
}
