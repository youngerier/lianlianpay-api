{
 "cells": [
  {
   "cell_type": "code",
   "execution_count": 1,
   "metadata": {},
   "outputs": [],
   "source": [
    "from Crypto.PublicKey import RSA\n",
    "from Crypto.Signature import PKCS1_v1_5\n",
    "from Crypto.Hash import MD5, SHA1, SHA256\n",
    "import base64\n",
    "import hashlib\n",
    "\n",
    "\n",
    "from mylib import sign"
   ]
  },
  {
   "cell_type": "code",
   "execution_count": 2,
   "metadata": {},
   "outputs": [
    {
     "name": "stdout",
     "output_type": "stream",
     "text": [
      "GQbY/W9vLb4zWArhp4wDktE98nUd5RsTGN+2oY+jJD8PNDtqoTswLlJ37S5qFg11sEAhlh/TuxEna9VM8zJFtmVybxGWYc6V4eJTzcK778Z/C2WrPU9SOiSiTgOcwHbih/rXiYrYDgK8Z97COypc3qom/YkgculGCG1Y5TpAzYk=\n"
     ]
    }
   ],
   "source": [
    "\n",
    "\n",
    "\n",
    "\n",
    "def RSA_sign(data):\n",
    "    privateKey = '''MIICdwIBADANBgkqhkiG9w0BAQEFAASCAmEwggJdAgEAAoGBAIooE+9hmb6GvAUQ3j9FDRgrhWMmVWKepKNmQerrvovmySUSPzFHainDMl6HuQAWHCMI9O8S9kzqG3o9pnetpG7JShB6Oc9eX0kA6n0vLR2rYXNo5uVC29/Koqp250T7lzQ9bv6P0rkjIrqjTNIPVQXToyAwQcZQ5rVhUbtnP7YlAgMBAAECgYBpSzpGS0B9sPpDciOwXNQqA6FZe7G/w+D+l8TNYnaK8Y2Dr3ByAlerFJWi7hXVNwSivwTN4MnOvO3MMIha1gBnQCFStI4PjRv2qz6vsGfzZKFadUw3ngzGhT5UtIVAd+IFbbr4J+cGjGMmF5lIEaKrRCS5u4p11uf6LmhvbBTm0QJBAMQA7RYimdU9UStIm/RSkLQg6K89Om3S2AFXwqymiqhM4m6n7lRTE1xNX4pGm1BV8C/qL0d7AHbrJBFi+hN5onMCQQC0cjAXmKdnfhTo0IvYtzpXr77odBz4zt2Ake65ssBJEWFzle69MbWgkbrTKLLjGxBwM+C7fPDGNckqhlpjMGcHAkB+vcKRT6p9svqrrHX8FO+xKp6LwmHn5jD7HU6q6b47egvpVfnM2TNpujaPaXzBA/EeaqZL6IOyYfaer4vZ0At1AkEAqezuRQpIezlMT4I0b7z8gB7MVPMjZVrJVI4YlV8znJt1ffevfxMUy0Tw/nDRJPUTodX4yBZ8VuvHqPgknkuyeQJBALYpXGOH/GjlSVtnhq7eZxvoEqiBLawW5k7Rl1IyNdGR2qxY/nnoCyP2mMCs1Ba05sCcX08zzOzMPvttbSyjqPI='''\n",
    "\n",
    "    private_keyBytes = base64.b64decode(privateKey)\n",
    "    priKey = RSA.importKey(private_keyBytes)\n",
    "    signer = PKCS1_v1_5.new(priKey,)\n",
    "    # SIGNATURE_ALGORITHM = \"MD5withRSA\"\n",
    "    hash_obj = MD5.new(data.encode('utf-8'))\n",
    "\n",
    "    signature = base64.b64encode(signer.sign(hash_obj))\n",
    "    return signature\n",
    "\n",
    "\n",
    "if __name__ == '__main__':\n",
    "    data = \"phone=15811352072&timestamp=1612496512540&device=Android\"\n",
    "    res_sign1 = RSA_sign(data)\n",
    "    signature = res_sign1.decode('utf8')\n",
    "    print(signature)"
   ]
  },
  {
   "cell_type": "code",
   "execution_count": 3,
   "metadata": {},
   "outputs": [
    {
     "name": "stdout",
     "output_type": "stream",
     "text": [
      "97d804ed3b091a48f7b5517c0042af74\n",
      "97d804ed3b091a48f7b5517c0042af74\n"
     ]
    }
   ],
   "source": [
    "src_data = 'xxdda'\n",
    "md5_hash = MD5.new(src_data.encode())\n",
    "str_md5_hash = md5_hash.hexdigest()\n",
    "\n",
    "hashlib_str = hashlib.md5(src_data.encode()).hexdigest()\n",
    "print(str_md5_hash)\n",
    "print(hashlib_str)"
   ]
  },
  {
   "cell_type": "code",
   "execution_count": 4,
   "metadata": {},
   "outputs": [
    {
     "name": "stdout",
     "output_type": "stream",
     "text": [
      "导出依赖\n",
      "\n",
      "pip freeze > requirements.txt\n",
      "\n",
      "\n",
      "\n",
      "导入依赖\n",
      "\n",
      "pip install -r requirements.txt\n",
      "\n"
     ]
    }
   ],
   "source": [
    "sign.my_hash111('asfdsaf')\n",
    "\n",
    "\n",
    "sign.read_file('read.md')\n",
    " "
   ]
  }
 ],
 "metadata": {
  "kernelspec": {
   "display_name": "Python 3.10.8 ('.venv': venv)",
   "language": "python",
   "name": "python3"
  },
  "language_info": {
   "codemirror_mode": {
    "name": "ipython",
    "version": 3
   },
   "file_extension": ".py",
   "mimetype": "text/x-python",
   "name": "python",
   "nbconvert_exporter": "python",
   "pygments_lexer": "ipython3",
   "version": "3.10.8"
  },
  "orig_nbformat": 4,
  "vscode": {
   "interpreter": {
    "hash": "52b431239b7dd7d4d500115389a3f6b45cfdff8c272c23fac58ba7cb094dbbee"
   }
  }
 },
 "nbformat": 4,
 "nbformat_minor": 2
}
