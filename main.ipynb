{
 "cells": [
  {
   "cell_type": "markdown",
   "metadata": {},
   "source": [
    "# 信用付接入指南"
   ]
  },
  {
   "cell_type": "code",
   "execution_count": 17,
   "metadata": {},
   "outputs": [],
   "source": [
    "from Crypto.PublicKey import RSA\n",
    "from Crypto.Signature import PKCS1_v1_5\n",
    "from Crypto.Hash import MD5\n",
    "\n",
    "import base64\n",
    "import requests\n",
    "import json\n",
    "from time import strftime, localtime"
   ]
  },
  {
   "cell_type": "markdown",
   "metadata": {},
   "source": [
    "## 第一步: 准备参数\n",
    "    一个测试商户号\n",
    "    公私钥\n",
    "    聚分期接口文档"
   ]
  },
  {
   "cell_type": "code",
   "execution_count": 18,
   "metadata": {
    "tags": [
     "parameters"
    ]
   },
   "outputs": [],
   "source": [
    "# 接口地址\n",
    "base_url = \"https://test.lianlianpay-inc.com/mpay-openapi\"\n",
    "# 支付申请\n",
    "pay_apply_api = \"/v1/creditpay/stagecode/apply\"\n",
    "# 私钥\n",
    "private_key= \"MIICdwIBADANBgkqhkiG9w0BAQEFAASCAmEwggJdAgEAAoGBAOilN4tR7HpNYvSBra/DzebemoAiGtGeaxa+qebx/O2YAdUFPI+xTKTX2ETyqSzGfbxXpmSax7tXOdoa3uyaFnhKRGRvLdq1kTSTu7q5s6gTryxVH2m62Py8Pw0sKcuuV0CxtxkrxUzGQN+QSxf+TyNAv5rYi/ayvsDgWdB3cRqbAgMBAAECgYEAj02d/jqTcO6UQspSY484GLsL7luTq4Vqr5L4cyKiSvQ0RLQ6DsUG0g+Gz0muPb9ymf5fp17UIyjioN+ma5WquncHGm6ElIuRv2jYbGOnl9q2cMyNsAZCiSWfR++op+6UZbzpoNDiYzeKbNUz6L1fJjzCt52w/RbkDncJd2mVDRkCQQD/Uz3QnrWfCeWmBbsAZVoM57n01k7hyLWmDMYoKh8vnzKjrWScDkaQ6qGTbPVL3x0EBoxgb/smnT6/A5XyB9bvAkEA6UKhP1KLi/ImaLFUgLvEvmbUrpzY2I1+jgdsoj9Bm4a8K+KROsnNAIvRsKNgJPWd64uuQntUFPKkcyfBV1MXFQJBAJGs3Mf6xYVIEE75VgiTyx0x2VdoLvmDmqBzCVxBLCnvmuToOU8QlhJ4zFdhA1OWqOdzFQSw34rYjMRPN24wKuECQEqpYhVzpWkA9BxUjli6QUo0feT6HUqLV7O8WqBAIQ7X/IkLdzLa/vwqxM6GLLMHzylixz9OXGZsGAkn83GxDdUCQA9+pQOitY0WranUHeZFKWAHZszSjtbe6wDAdiKdXCfig0/rOdxAODCbQrQs7PYy1ed8DuVQlHPwRGtokVGHATU=\"\n",
    "# 连连公钥\n",
    "ll_public_key= \"MIGfMA0GCSqGSIb3DQEBAQUAA4GNADCBiQKBgQCSS/DiwdCf/aZsxxcacDnooGph3d2JOj5GXWi+q3gznZauZjkNP8SKl3J2liP0O6rU/Y/29+IUe+GTMhMOFJuZm1htAtKiu5ekW0GlBMWxf4FPkYlQkPE0FtaoMP3gYfh+OwI+fIRrpW3ySn3mScnc6Z700nU/VYrRkfcSCbSnRwIDAQAB\"\n",
    "# 商户号\n",
    "mch_id = '302112250000006404'\n",
    "\n",
    "encoding = 'utf-8'\n"
   ]
  },
  {
   "cell_type": "code",
   "execution_count": 19,
   "metadata": {},
   "outputs": [],
   "source": [
    "# 测试接口地址\n",
    "# base_url = \"http://localhost:8085/\""
   ]
  },
  {
   "cell_type": "markdown",
   "metadata": {},
   "source": [
    "## 第二步: 签名方法"
   ]
  },
  {
   "cell_type": "code",
   "execution_count": 20,
   "metadata": {},
   "outputs": [
    {
     "name": "stdout",
     "output_type": "stream",
     "text": [
      "GLJBY6u95cLCSU3przaY5kq0RyTpA80Fdj8IRGxmZyFLUIWUV7H1lCBiPEb7it6yaKdmCR4pw4LtfQ0qGwssLIgjgj8bCAu4Y2twobx4ojldxWfV0NcIt/r04bPDTHFdFtneb1zSksJpXGZ28yeGYxfxYafiT8KjRJajNnQzAT4=\n"
     ]
    }
   ],
   "source": [
    "# 数据签名\n",
    "\n",
    "def rsa_sign(data):\n",
    "\n",
    "    # 原始数据需要先求一边 md5\n",
    "    hash_obj = MD5.new(data.encode(encoding)).hexdigest()\n",
    "\n",
    "    \n",
    "    # Md5withRsaSign 获取签名\n",
    "    pri_key = RSA.importKey(base64.b64decode(private_key))\n",
    "    signer = PKCS1_v1_5.new(pri_key)\n",
    "    \n",
    "    md5_obj = MD5.new(hash_obj.encode(encoding))\n",
    "    signature = base64.b64encode(signer.sign(md5_obj))\n",
    "    return signature\n",
    "\n",
    "sign_res = rsa_sign('xxdda').decode()\n",
    "print(sign_res)\n"
   ]
  },
  {
   "cell_type": "markdown",
   "metadata": {},
   "source": [
    "## 第三步: 组装参数,发起创单请求"
   ]
  },
  {
   "cell_type": "code",
   "execution_count": 23,
   "metadata": {},
   "outputs": [
    {
     "name": "stdout",
     "output_type": "stream",
     "text": [
      "请求参数:{\"mch_id\": \"302112250000006404\", \"user_id\": \"CCTEST20210906001\", \"user_ip\": \"192.168.1.1\", \"txn_seqno\": \"CSP_A20221125140417\", \"txn_time\": \"20221125140417\", \"order_amount\": \"1000\", \"order_info\": \"xxdda py aa\", \"notify_url\": \"http://localtime.com\", \"pay_expire\": \"60\", \"pay_type\": \"STAGE_CODE_PAY\", \"stage_info\": {\"stage_num\": \"6\"}}\n",
      "响应头:{\"Server\": \"nginx\", \"Date\": \"Fri, 25 Nov 2022 06:04:27 GMT\", \"Content-Type\": \"application/json;charset=UTF-8\", \"Transfer-Encoding\": \"chunked\", \"Connection\": \"keep-alive\", \"X-Application-Context\": \"application:qa:8085\", \"Signature-Type\": \"RSA\", \"Signature-Data\": \"DxuedPjTTnNNIIRz5Pq3hnM2oJA8GXrO1T3Q7MMEtWCI9fCTfW2xrlfTHn48l8/YcqMwDypnN4IuqUyOMCWLZSnqxcuoGWZKchtyiTnE/b3OeNJaBI2GF9Sij4fCdHQtXwXr2D+Hj8gXtv2b9jjtGmk/MfMik4gRuL7RD2Q1opg=\"}\n",
      "相应:{\n",
      "    \"ret_code\": \"9901\",\n",
      "    \"ret_msg\": \"银行交易出错，请稍后重试\"\n",
      "}\n"
     ]
    }
   ],
   "source": [
    "\n",
    "\n",
    "def pay_apply():\n",
    "    url = base_url + pay_apply_api\n",
    "\n",
    "    data = {\n",
    "        \"mch_id\": mch_id,\n",
    "        \"user_id\": \"CCTEST20210906001\",\n",
    "        \"user_ip\": \"192.168.1.1\",\n",
    "        \"txn_seqno\": 'CSP_A'+strftime('%Y%m%d%H%M%S', localtime()),\n",
    "        \"txn_time\": strftime('%Y%m%d%H%M%S', localtime()),\n",
    "        \"order_amount\": '1000',\n",
    "        \"order_info\": 'xxdda py aa',\n",
    "        \"notify_url\": \"http://localtime.com\",\n",
    "        \"pay_expire\": \"60\",\n",
    "        \"pay_type\": 'STAGE_CODE_PAY',\n",
    "        \"stage_info\": {\n",
    "            \"stage_num\": '6'\n",
    "        }\n",
    "    }\n",
    "    str_data = json.dumps(data)\n",
    "    print('请求参数:'+str_data)\n",
    "    headers = {\n",
    "        \"timestamp\": strftime('%Y%m%d%H%M%S', localtime()),\n",
    "        \"Signature-Data\": rsa_sign(str_data),\n",
    "        \"Signature-Type\": \"RSA\",\n",
    "        \"mch_id\": mch_id,\n",
    "        \"Content-Type\": \"application/json;charset=UTF-8\"\n",
    "    }\n",
    "\n",
    "    r = requests.post(url=url, data=str_data, headers=headers)\n",
    "    print(\"响应头:\"+ json.dumps(dict(r.headers)))\n",
    "    # 注意! 这里需要对响应原文进行验签\n",
    "    pretty_json = json.loads(r.text)\n",
    "\n",
    "    # 打印输出\n",
    "    print(\"响应参数:\"+json.dumps(pretty_json, indent=4, ensure_ascii=False))\n",
    "\n",
    "\n",
    "pay_apply()\n"
   ]
  },
  {
   "cell_type": "markdown",
   "metadata": {},
   "source": [
    "## 第四步: 获取支付链接并完成支付\n",
    "    使用测试数据 \n",
    "        手机号 `18100000000` \n",
    "        短信 `111111`\n"
   ]
  }
 ],
 "metadata": {
  "kernelspec": {
   "display_name": "Python 3.10.8 ('.venv': venv)",
   "language": "python",
   "name": "python3"
  },
  "language_info": {
   "codemirror_mode": {
    "name": "ipython",
    "version": 3
   },
   "file_extension": ".py",
   "mimetype": "text/x-python",
   "name": "python",
   "nbconvert_exporter": "python",
   "pygments_lexer": "ipython3",
   "version": "3.10.8"
  },
  "orig_nbformat": 4,
  "vscode": {
   "interpreter": {
    "hash": "52b431239b7dd7d4d500115389a3f6b45cfdff8c272c23fac58ba7cb094dbbee"
   }
  }
 },
 "nbformat": 4,
 "nbformat_minor": 2
}
