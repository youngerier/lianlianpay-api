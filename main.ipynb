{
 "cells": [
  {
   "cell_type": "markdown",
   "metadata": {},
   "source": [
    "信用付"
   ]
  },
  {
   "cell_type": "code",
   "execution_count": 22,
   "metadata": {
    "tags": [
     "parameters"
    ]
   },
   "outputs": [],
   "source": [
    "# 接口地址\n",
    "test_url = \"https://test.lianlianpay-inc.com/mpay-openapi\"\n",
    "# 支付申请\n",
    "pay_apply_api = \"/v1/creditpay/stage/apply\"\n",
    "# 私钥\n",
    "private_key= \"MIICdwIBADANBgkqhkiG9w0BAQEFAASCAmEwggJdAgEAAoGBAOilN4tR7HpNYvSBra/DzebemoAiGtGeaxa+qebx/O2YAdUFPI+xTKTX2ETyqSzGfbxXpmSax7tXOdoa3uyaFnhKRGRvLdq1kTSTu7q5s6gTryxVH2m62Py8Pw0sKcuuV0CxtxkrxUzGQN+QSxf+TyNAv5rYi/ayvsDgWdB3cRqbAgMBAAECgYEAj02d/jqTcO6UQspSY484GLsL7luTq4Vqr5L4cyKiSvQ0RLQ6DsUG0g+Gz0muPb9ymf5fp17UIyjioN+ma5WquncHGm6ElIuRv2jYbGOnl9q2cMyNsAZCiSWfR++op+6UZbzpoNDiYzeKbNUz6L1fJjzCt52w/RbkDncJd2mVDRkCQQD/Uz3QnrWfCeWmBbsAZVoM57n01k7hyLWmDMYoKh8vnzKjrWScDkaQ6qGTbPVL3x0EBoxgb/smnT6/A5XyB9bvAkEA6UKhP1KLi/ImaLFUgLvEvmbUrpzY2I1+jgdsoj9Bm4a8K+KROsnNAIvRsKNgJPWd64uuQntUFPKkcyfBV1MXFQJBAJGs3Mf6xYVIEE75VgiTyx0x2VdoLvmDmqBzCVxBLCnvmuToOU8QlhJ4zFdhA1OWqOdzFQSw34rYjMRPN24wKuECQEqpYhVzpWkA9BxUjli6QUo0feT6HUqLV7O8WqBAIQ7X/IkLdzLa/vwqxM6GLLMHzylixz9OXGZsGAkn83GxDdUCQA9+pQOitY0WranUHeZFKWAHZszSjtbe6wDAdiKdXCfig0/rOdxAODCbQrQs7PYy1ed8DuVQlHPwRGtokVGHATU=\"\n",
    "# 连连公钥\n",
    "ll_public_key= \"MIGfMA0GCSqGSIb3DQEBAQUAA4GNADCBiQKBgQCSS/DiwdCf/aZsxxcacDnooGph3d2JOj5GXWi+q3gznZauZjkNP8SKl3J2liP0O6rU/Y/29+IUe+GTMhMOFJuZm1htAtKiu5ekW0GlBMWxf4FPkYlQkPE0FtaoMP3gYfh+OwI+fIRrpW3ySn3mScnc6Z700nU/VYrRkfcSCbSnRwIDAQAB\"\n",
    "# 商户号\n",
    "mch_id = '302112250000006404'\n",
    "\n",
    "encoding = 'utf-8'\n"
   ]
  },
  {
   "cell_type": "code",
   "execution_count": 23,
   "metadata": {},
   "outputs": [],
   "source": [
    "from Crypto.PublicKey import RSA\n",
    "from Crypto.Signature import PKCS1_v1_5\n",
    "from Crypto.Hash import MD5\n",
    "import base64\n",
    "import requests\n",
    "import json\n",
    "from time import strftime, localtime"
   ]
  },
  {
   "cell_type": "markdown",
   "metadata": {},
   "source": [
    "签名工具"
   ]
  },
  {
   "cell_type": "code",
   "execution_count": 5,
   "metadata": {
    "tags": []
   },
   "outputs": [],
   "source": [
    "\n",
    "def my_hash(data):\n",
    "    return MD5.new(data.encode('utf-8'))"
   ]
  },
  {
   "cell_type": "code",
   "execution_count": 6,
   "metadata": {},
   "outputs": [],
   "source": [
    "# 数据签名\n",
    "\n",
    "def rsa_sign(data):\n",
    "    pri_key = RSA.importKey(base64.b64decode(private_key))\n",
    "    signer = PKCS1_v1_5.new(pri_key)\n",
    "    hash_obj = my_hash(data)\n",
    "    signature = base64.b64encode(signer.sign(hash_obj))\n",
    "    return signature\n",
    "\n",
    "# sign_res = rsa_sign('xxdda')\n",
    "# print(sign_res.decode('utf-8'))\n"
   ]
  },
  {
   "cell_type": "code",
   "execution_count": 21,
   "metadata": {},
   "outputs": [
    {
     "name": "stdout",
     "output_type": "stream",
     "text": [
      "{'ret_code': '9901', 'ret_msg': '商户请求签名验证失败'}\n"
     ]
    }
   ],
   "source": [
    "\n",
    "\n",
    "def pay_apply():\n",
    "    url = test_url + pay_apply_api\n",
    "\n",
    "    data = {\n",
    "        \"mch_id\": mch_id,\n",
    "    }\n",
    "\n",
    "    headers = {\n",
    "        \"timestamp\": strftime('%Y%m%d%H%M%S', localtime()),\n",
    "        \"Signature-Data\": rsa_sign(json.dumps(data)),\n",
    "        \"Signature-Type\": \"RSA\",\n",
    "        \"mch_id\": mch_id,\n",
    "        \"Content-Type\": \"application/json;charset=UTF-8\"\n",
    "    }\n",
    "\n",
    "    r=requests.post(url=url, data=json.dumps(data), headers=headers)\n",
    "    status=r.status_code\n",
    "    print(r.json())\n",
    "\n",
    "pay_apply()\n"
   ]
  },
  {
   "cell_type": "code",
   "execution_count": 29,
   "metadata": {},
   "outputs": [
    {
     "name": "stdout",
     "output_type": "stream",
     "text": [
      "20221122155503\n"
     ]
    },
    {
     "data": {
      "text/plain": [
       "Crypto.Hash.MD5.MD5Hash"
      ]
     },
     "execution_count": 29,
     "metadata": {},
     "output_type": "execute_result"
    }
   ],
   "source": [
    "print(strftime('%Y%m%d%H%M%S',localtime()))\n",
    "\n",
    "from mylib import sign\n",
    "\n",
    "sign.my_hash111(\"xxxxxxxx\")"
   ]
  }
 ],
 "metadata": {
  "kernelspec": {
   "display_name": "Python 3.10.8 ('.venv': venv)",
   "language": "python",
   "name": "python3"
  },
  "language_info": {
   "codemirror_mode": {
    "name": "ipython",
    "version": 3
   },
   "file_extension": ".py",
   "mimetype": "text/x-python",
   "name": "python",
   "nbconvert_exporter": "python",
   "pygments_lexer": "ipython3",
   "version": "3.10.8"
  },
  "orig_nbformat": 4,
  "vscode": {
   "interpreter": {
    "hash": "52b431239b7dd7d4d500115389a3f6b45cfdff8c272c23fac58ba7cb094dbbee"
   }
  }
 },
 "nbformat": 4,
 "nbformat_minor": 2
}
